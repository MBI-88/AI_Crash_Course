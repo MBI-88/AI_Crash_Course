{
 "cells": [
  {
   "cell_type": "code",
   "execution_count": 1,
   "metadata": {},
   "outputs": [],
   "source": [
    "import numpy as np \n",
    "np.random.seed(42)\n"
   ]
  },
  {
   "cell_type": "code",
   "execution_count": 6,
   "metadata": {
    "tags": []
   },
   "outputs": [
    {
     "name": "stdout",
     "output_type": "stream",
     "text": [
      "Q_Values:  [[   0  620    0    0    0    0    0    0    0    0    0    0]\n",
      " [ 466    0  825    0    0  466    0    0    0    0    0    0]\n",
      " [   0  620    0    0    0    0 1099    0    0    0    0    0]\n",
      " [   0    0    0    0    0    0    0  825    0    0    0    0]\n",
      " [   0    0    0    0    0    0    0    0  263    0    0    0]\n",
      " [   0  620    0    0    0    0    0    0    0  350    0    0]\n",
      " [   0    0  825    0    0 1465 1099    0    0    0    0    0]\n",
      " [   0    0    0  618    0    0 1099    0    0    0    0  620]\n",
      " [   0    0    0    0  198    0    0    0    0  350    0    0]\n",
      " [   0    0    0    0    0  466    0    0  263    0  466    0]\n",
      " [   0    0    0    0    0    0    0    0    0  350    0  620]\n",
      " [   0    0    0    0    0    0    0  825    0    0  466    0]]\n"
     ]
    }
   ],
   "source": [
    "# Ambiente\n",
    "\n",
    "location_state={\n",
    "    'A':0,'B':1,'C':2,'D':3,'E':4,'F':5,'G':6,'H':7,'I':8,'J':9,'K':10,'L':11\n",
    "}\n",
    "\n",
    "action=[0,1,2,3,4,5,6,7,8,9,10,11]\n",
    "\n",
    "alpha=0.9 # factor de descuent\n",
    "gamma=0.75 # learning rate\n",
    "\n",
    "# Sistema de premios\n",
    "\n",
    "Rewards=np.array([\n",
    "    [0,1,0,0,0,0,0,0,0,0,0,0],# A\n",
    "    [1,0,1,0,0,1,0,0,0,0,0,0],# B\n",
    "    [0,1,0,0,0,0,1,0,0,0,0,0],# C\n",
    "    [0,0,0,0,0,0,0,1,0,0,0,0],# D\n",
    "    [0,0,0,0,0,0,0,0,1,0,0,0],# E\n",
    "    [0,1,0,0,0,0,0,0,0,1,0,0],# F\n",
    "    [0,0,1,0,0,1000,1,0,0,0,0,0],# G\n",
    "    [0,0,0,1,0,0,1,0,0,0,0,1],# H\n",
    "    [0,0,0,0,1,0,0,0,0,1,0,0],# I\n",
    "    [0,0,0,0,0,1,0,0,1,0,1,0],# J\n",
    "    [0,0,0,0,0,0,0,0,0,1,0,1],# K\n",
    "    [0,0,0,0,0,0,0,1,0,0,1,0] # L\n",
    "])\n",
    "\n",
    "Q_value=np.array(np.zeros([12,12])) # funcion de valores Q\n",
    "\n",
    "# Entrenamiento\n",
    "\n",
    "for i in range(1000):\n",
    "    current_state=np.random.randint(0,12) # Eleccion de un estado aleatorio\n",
    "    playable_action=[] # Acciones elegidas\n",
    "    for j in range(12):\n",
    "        if Rewards[current_state,j] > 0:\n",
    "            playable_action.append(j)\n",
    "    next_state=np.random.choice(playable_action)\n",
    "    TD=Rewards[current_state,next_state] + gamma * Q_value[next_state,np.argmax(Q_value[next_state,])]-Q_value[current_state,next_state] # Diferencia temporal\n",
    "    Q_value[current_state,next_state]=Q_value[current_state,next_state] + alpha * TD # Ecuacion Bellman\n",
    "\n",
    "print('Q_Values: ',Q_value.astype(int))"
   ]
  },
  {
   "cell_type": "code",
   "execution_count": 15,
   "metadata": {
    "tags": []
   },
   "outputs": [
    {
     "name": "stdout",
     "output_type": "stream",
     "text": [
      "Direccion:  ['E', 'I', 'J', 'K', 'L', 'H', 'G']\n"
     ]
    }
   ],
   "source": [
    "# Inferencia\n",
    "\n",
    "state_location={\n",
    "    state : location for location, state in location_state.items()}\n",
    "\n",
    "def prediction(starting_location,ending_location):\n",
    "    route=[starting_location]\n",
    "    next_location=starting_location\n",
    "    while (next_location != ending_location):\n",
    "        starting_state=location_state[starting_location]\n",
    "        next_state=np.argmax(Q_value[starting_state,])\n",
    "        next_location=state_location[next_state]\n",
    "        route.append(next_location)\n",
    "        starting_location=next_location\n",
    "    return route\n",
    "\n",
    "Ruta=prediction('E','G')\n",
    "print('Direccion: ',Ruta)"
   ]
  },
  {
   "cell_type": "code",
   "execution_count": 21,
   "metadata": {
    "tags": []
   },
   "outputs": [
    {
     "name": "stdout",
     "output_type": "stream",
     "text": [
      "['E', 'I', 'J', 'K', 'L', 'H', 'G']\n"
     ]
    }
   ],
   "source": [
    "# Mejorando el modelo\n",
    "\n",
    "def route(starting_location,ending_location):\n",
    "    R_new=np.copy(Rewards)\n",
    "    ending_state=location_state[ending_location]\n",
    "    R_new[ending_state,ending_state]=1000\n",
    "    Q_value_new=np.array(np.zeros([12,12]))\n",
    "    for i in range(1000):\n",
    "        current_state=np.random.randint(0,12)\n",
    "        playable_action=[]\n",
    "        for j in range(12):\n",
    "            if R_new[current_state,j] > 0:\n",
    "                playable_action.append(j)\n",
    "        next_state=np.random.choice(playable_action)\n",
    "        TD=R_new[current_state,next_state]+ gamma * Q_value_new[next_state,np.argmax(Q_value_new[next_state,])]- Q_value_new[current_state,next_state]\n",
    "        Q_value_new[current_state,next_state]=Q_value_new[current_state,next_state]+ alpha * TD\n",
    "    route=[starting_location]\n",
    "    next_location=starting_location\n",
    "    while (next_location != ending_location):\n",
    "        starting_state=location_state[starting_location]\n",
    "        next_state=np.argmax(Q_value_new[starting_state,])\n",
    "        next_location=state_location[next_state]\n",
    "        route.append(next_location)\n",
    "        starting_location=next_location\n",
    "    return route\n",
    "\n",
    "Location=route('E','G')\n",
    "print(Location)\n"
   ]
  },
  {
   "cell_type": "code",
   "execution_count": 24,
   "metadata": {
    "tags": []
   },
   "outputs": [
    {
     "name": "stdout",
     "output_type": "stream",
     "text": [
      "['E', 'I', 'J', 'K', 'L', 'H', 'G']\n"
     ]
    }
   ],
   "source": [
    " # Mejoramiento 2 Creando una locacion intermedia para facilitar la ruta al modelo\n",
    "\n",
    " def best_route(starting_location,intermdiary_location,ending_location):\n",
    "     return route(starting_location,intermdiary_location) + route(intermdiary_location,ending_location)[1:]\n",
    "\n",
    "\n",
    "Best_route=best_route('E','K','G')\n",
    "print(Best_route)\n",
    "\n"
   ]
  },
  {
   "cell_type": "code",
   "execution_count": null,
   "metadata": {},
   "outputs": [],
   "source": []
  }
 ],
 "metadata": {
  "kernelspec": {
   "display_name": "Python 3",
   "language": "python",
   "name": "python3"
  },
  "language_info": {
   "codemirror_mode": {
    "name": "ipython",
    "version": 3
   },
   "file_extension": ".py",
   "mimetype": "text/x-python",
   "name": "python",
   "nbconvert_exporter": "python",
   "pygments_lexer": "ipython3",
   "version": "3.7.9"
  }
 },
 "nbformat": 4,
 "nbformat_minor": 2
}
